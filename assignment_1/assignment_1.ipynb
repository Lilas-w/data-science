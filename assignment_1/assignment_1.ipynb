{
 "metadata": {
  "language_info": {
   "codemirror_mode": {
    "name": "ipython",
    "version": 3
   },
   "file_extension": ".py",
   "mimetype": "text/x-python",
   "name": "python",
   "nbconvert_exporter": "python",
   "pygments_lexer": "ipython3",
   "version": "3.8.5-final"
  },
  "orig_nbformat": 2,
  "kernelspec": {
   "name": "python3",
   "display_name": "Python 3.8.5 64-bit (conda)",
   "metadata": {
    "interpreter": {
     "hash": "07b8db23ed5b941cabc92f520befb6646d0023b1f06ac1f1bce69adab200267b"
    }
   }
  }
 },
 "nbformat": 4,
 "nbformat_minor": 2,
 "cells": [
  {
   "cell_type": "code",
   "execution_count": 74,
   "metadata": {},
   "outputs": [],
   "source": [
    "import numpy as np \n",
    "import pandas as pd \n",
    "import matplotlib.pyplot as plt\n",
    "\n",
    "df = pd.read_csv('breast_cancer.csv')\n"
   ]
  },
  {
   "cell_type": "code",
   "execution_count": 89,
   "metadata": {},
   "outputs": [
    {
     "output_type": "execute_result",
     "data": {
      "text/plain": [
       "     mean radius  mean texture  mean perimeter  mean area  mean smoothness  \\\n",
       "0          17.99         10.38          122.80     1001.0          0.11840   \n",
       "1          20.57         17.77          132.90     1326.0          0.08474   \n",
       "2          19.69         21.25          130.00     1203.0          0.10960   \n",
       "3          11.42         20.38           77.58      386.1          0.14250   \n",
       "4          20.29         14.34          135.10     1297.0          0.10030   \n",
       "..           ...           ...             ...        ...              ...   \n",
       "564        21.56         22.39          142.00     1479.0          0.11100   \n",
       "565        20.13         28.25          131.20     1261.0          0.09780   \n",
       "566        16.60         28.08          108.30      858.1          0.08455   \n",
       "567        20.60         29.33          140.10     1265.0          0.11780   \n",
       "568         7.76         24.54           47.92      181.0          0.05263   \n",
       "\n",
       "     mean compactness  mean concavity  mean concave points  mean symmetry  \\\n",
       "0             0.27760         0.30010              0.14710         0.2419   \n",
       "1             0.07864         0.08690              0.07017         0.1812   \n",
       "2             0.15990         0.19740              0.12790         0.2069   \n",
       "3             0.28390         0.24140              0.10520         0.2597   \n",
       "4             0.13280         0.19800              0.10430         0.1809   \n",
       "..                ...             ...                  ...            ...   \n",
       "564           0.11590         0.24390              0.13890         0.1726   \n",
       "565           0.10340         0.14400              0.09791         0.1752   \n",
       "566           0.10230         0.09251              0.05302         0.1590   \n",
       "567           0.27700         0.35140              0.15200         0.2397   \n",
       "568           0.04362         0.00000              0.00000         0.1587   \n",
       "\n",
       "     mean fractal dimension  ...  worst radius  worst texture  \\\n",
       "0                   0.07871  ...        25.380          17.33   \n",
       "1                   0.05667  ...        24.990          23.41   \n",
       "2                   0.05999  ...        23.570          25.53   \n",
       "3                   0.09744  ...        14.910          26.50   \n",
       "4                   0.05883  ...        22.540          16.67   \n",
       "..                      ...  ...           ...            ...   \n",
       "564                 0.05623  ...        25.450          26.40   \n",
       "565                 0.05533  ...        23.690          38.25   \n",
       "566                 0.05648  ...        18.980          34.12   \n",
       "567                 0.07016  ...        25.740          39.42   \n",
       "568                 0.05884  ...         9.456          30.37   \n",
       "\n",
       "     worst perimeter  worst area  worst smoothness  worst compactness  \\\n",
       "0             184.60      2019.0           0.16220            0.66560   \n",
       "1             158.80      1956.0           0.12380            0.18660   \n",
       "2             152.50      1709.0           0.14440            0.42450   \n",
       "3              98.87       567.7           0.20980            0.86630   \n",
       "4             152.20      1575.0           0.13740            0.20500   \n",
       "..               ...         ...               ...                ...   \n",
       "564           166.10      2027.0           0.14100            0.21130   \n",
       "565           155.00      1731.0           0.11660            0.19220   \n",
       "566           126.70      1124.0           0.11390            0.30940   \n",
       "567           184.60      1821.0           0.16500            0.86810   \n",
       "568            59.16       268.6           0.08996            0.06444   \n",
       "\n",
       "     worst concavity  worst concave points  worst symmetry  \\\n",
       "0             0.7119                0.2654          0.4601   \n",
       "1             0.2416                0.1860          0.2750   \n",
       "2             0.4504                0.2430          0.3613   \n",
       "3             0.6869                0.2575          0.6638   \n",
       "4             0.4000                0.1625          0.2364   \n",
       "..               ...                   ...             ...   \n",
       "564           0.4107                0.2216          0.2060   \n",
       "565           0.3215                0.1628          0.2572   \n",
       "566           0.3403                0.1418          0.2218   \n",
       "567           0.9387                0.2650          0.4087   \n",
       "568           0.0000                0.0000          0.2871   \n",
       "\n",
       "     worst fractal dimension  \n",
       "0                    0.11890  \n",
       "1                    0.08902  \n",
       "2                    0.08758  \n",
       "3                    0.17300  \n",
       "4                    0.07678  \n",
       "..                       ...  \n",
       "564                  0.07115  \n",
       "565                  0.06637  \n",
       "566                  0.07820  \n",
       "567                  0.12400  \n",
       "568                  0.07039  \n",
       "\n",
       "[569 rows x 30 columns]"
      ],
      "text/html": "<div>\n<style scoped>\n    .dataframe tbody tr th:only-of-type {\n        vertical-align: middle;\n    }\n\n    .dataframe tbody tr th {\n        vertical-align: top;\n    }\n\n    .dataframe thead th {\n        text-align: right;\n    }\n</style>\n<table border=\"1\" class=\"dataframe\">\n  <thead>\n    <tr style=\"text-align: right;\">\n      <th></th>\n      <th>mean radius</th>\n      <th>mean texture</th>\n      <th>mean perimeter</th>\n      <th>mean area</th>\n      <th>mean smoothness</th>\n      <th>mean compactness</th>\n      <th>mean concavity</th>\n      <th>mean concave points</th>\n      <th>mean symmetry</th>\n      <th>mean fractal dimension</th>\n      <th>...</th>\n      <th>worst radius</th>\n      <th>worst texture</th>\n      <th>worst perimeter</th>\n      <th>worst area</th>\n      <th>worst smoothness</th>\n      <th>worst compactness</th>\n      <th>worst concavity</th>\n      <th>worst concave points</th>\n      <th>worst symmetry</th>\n      <th>worst fractal dimension</th>\n    </tr>\n  </thead>\n  <tbody>\n    <tr>\n      <th>0</th>\n      <td>17.99</td>\n      <td>10.38</td>\n      <td>122.80</td>\n      <td>1001.0</td>\n      <td>0.11840</td>\n      <td>0.27760</td>\n      <td>0.30010</td>\n      <td>0.14710</td>\n      <td>0.2419</td>\n      <td>0.07871</td>\n      <td>...</td>\n      <td>25.380</td>\n      <td>17.33</td>\n      <td>184.60</td>\n      <td>2019.0</td>\n      <td>0.16220</td>\n      <td>0.66560</td>\n      <td>0.7119</td>\n      <td>0.2654</td>\n      <td>0.4601</td>\n      <td>0.11890</td>\n    </tr>\n    <tr>\n      <th>1</th>\n      <td>20.57</td>\n      <td>17.77</td>\n      <td>132.90</td>\n      <td>1326.0</td>\n      <td>0.08474</td>\n      <td>0.07864</td>\n      <td>0.08690</td>\n      <td>0.07017</td>\n      <td>0.1812</td>\n      <td>0.05667</td>\n      <td>...</td>\n      <td>24.990</td>\n      <td>23.41</td>\n      <td>158.80</td>\n      <td>1956.0</td>\n      <td>0.12380</td>\n      <td>0.18660</td>\n      <td>0.2416</td>\n      <td>0.1860</td>\n      <td>0.2750</td>\n      <td>0.08902</td>\n    </tr>\n    <tr>\n      <th>2</th>\n      <td>19.69</td>\n      <td>21.25</td>\n      <td>130.00</td>\n      <td>1203.0</td>\n      <td>0.10960</td>\n      <td>0.15990</td>\n      <td>0.19740</td>\n      <td>0.12790</td>\n      <td>0.2069</td>\n      <td>0.05999</td>\n      <td>...</td>\n      <td>23.570</td>\n      <td>25.53</td>\n      <td>152.50</td>\n      <td>1709.0</td>\n      <td>0.14440</td>\n      <td>0.42450</td>\n      <td>0.4504</td>\n      <td>0.2430</td>\n      <td>0.3613</td>\n      <td>0.08758</td>\n    </tr>\n    <tr>\n      <th>3</th>\n      <td>11.42</td>\n      <td>20.38</td>\n      <td>77.58</td>\n      <td>386.1</td>\n      <td>0.14250</td>\n      <td>0.28390</td>\n      <td>0.24140</td>\n      <td>0.10520</td>\n      <td>0.2597</td>\n      <td>0.09744</td>\n      <td>...</td>\n      <td>14.910</td>\n      <td>26.50</td>\n      <td>98.87</td>\n      <td>567.7</td>\n      <td>0.20980</td>\n      <td>0.86630</td>\n      <td>0.6869</td>\n      <td>0.2575</td>\n      <td>0.6638</td>\n      <td>0.17300</td>\n    </tr>\n    <tr>\n      <th>4</th>\n      <td>20.29</td>\n      <td>14.34</td>\n      <td>135.10</td>\n      <td>1297.0</td>\n      <td>0.10030</td>\n      <td>0.13280</td>\n      <td>0.19800</td>\n      <td>0.10430</td>\n      <td>0.1809</td>\n      <td>0.05883</td>\n      <td>...</td>\n      <td>22.540</td>\n      <td>16.67</td>\n      <td>152.20</td>\n      <td>1575.0</td>\n      <td>0.13740</td>\n      <td>0.20500</td>\n      <td>0.4000</td>\n      <td>0.1625</td>\n      <td>0.2364</td>\n      <td>0.07678</td>\n    </tr>\n    <tr>\n      <th>...</th>\n      <td>...</td>\n      <td>...</td>\n      <td>...</td>\n      <td>...</td>\n      <td>...</td>\n      <td>...</td>\n      <td>...</td>\n      <td>...</td>\n      <td>...</td>\n      <td>...</td>\n      <td>...</td>\n      <td>...</td>\n      <td>...</td>\n      <td>...</td>\n      <td>...</td>\n      <td>...</td>\n      <td>...</td>\n      <td>...</td>\n      <td>...</td>\n      <td>...</td>\n      <td>...</td>\n    </tr>\n    <tr>\n      <th>564</th>\n      <td>21.56</td>\n      <td>22.39</td>\n      <td>142.00</td>\n      <td>1479.0</td>\n      <td>0.11100</td>\n      <td>0.11590</td>\n      <td>0.24390</td>\n      <td>0.13890</td>\n      <td>0.1726</td>\n      <td>0.05623</td>\n      <td>...</td>\n      <td>25.450</td>\n      <td>26.40</td>\n      <td>166.10</td>\n      <td>2027.0</td>\n      <td>0.14100</td>\n      <td>0.21130</td>\n      <td>0.4107</td>\n      <td>0.2216</td>\n      <td>0.2060</td>\n      <td>0.07115</td>\n    </tr>\n    <tr>\n      <th>565</th>\n      <td>20.13</td>\n      <td>28.25</td>\n      <td>131.20</td>\n      <td>1261.0</td>\n      <td>0.09780</td>\n      <td>0.10340</td>\n      <td>0.14400</td>\n      <td>0.09791</td>\n      <td>0.1752</td>\n      <td>0.05533</td>\n      <td>...</td>\n      <td>23.690</td>\n      <td>38.25</td>\n      <td>155.00</td>\n      <td>1731.0</td>\n      <td>0.11660</td>\n      <td>0.19220</td>\n      <td>0.3215</td>\n      <td>0.1628</td>\n      <td>0.2572</td>\n      <td>0.06637</td>\n    </tr>\n    <tr>\n      <th>566</th>\n      <td>16.60</td>\n      <td>28.08</td>\n      <td>108.30</td>\n      <td>858.1</td>\n      <td>0.08455</td>\n      <td>0.10230</td>\n      <td>0.09251</td>\n      <td>0.05302</td>\n      <td>0.1590</td>\n      <td>0.05648</td>\n      <td>...</td>\n      <td>18.980</td>\n      <td>34.12</td>\n      <td>126.70</td>\n      <td>1124.0</td>\n      <td>0.11390</td>\n      <td>0.30940</td>\n      <td>0.3403</td>\n      <td>0.1418</td>\n      <td>0.2218</td>\n      <td>0.07820</td>\n    </tr>\n    <tr>\n      <th>567</th>\n      <td>20.60</td>\n      <td>29.33</td>\n      <td>140.10</td>\n      <td>1265.0</td>\n      <td>0.11780</td>\n      <td>0.27700</td>\n      <td>0.35140</td>\n      <td>0.15200</td>\n      <td>0.2397</td>\n      <td>0.07016</td>\n      <td>...</td>\n      <td>25.740</td>\n      <td>39.42</td>\n      <td>184.60</td>\n      <td>1821.0</td>\n      <td>0.16500</td>\n      <td>0.86810</td>\n      <td>0.9387</td>\n      <td>0.2650</td>\n      <td>0.4087</td>\n      <td>0.12400</td>\n    </tr>\n    <tr>\n      <th>568</th>\n      <td>7.76</td>\n      <td>24.54</td>\n      <td>47.92</td>\n      <td>181.0</td>\n      <td>0.05263</td>\n      <td>0.04362</td>\n      <td>0.00000</td>\n      <td>0.00000</td>\n      <td>0.1587</td>\n      <td>0.05884</td>\n      <td>...</td>\n      <td>9.456</td>\n      <td>30.37</td>\n      <td>59.16</td>\n      <td>268.6</td>\n      <td>0.08996</td>\n      <td>0.06444</td>\n      <td>0.0000</td>\n      <td>0.0000</td>\n      <td>0.2871</td>\n      <td>0.07039</td>\n    </tr>\n  </tbody>\n</table>\n<p>569 rows × 30 columns</p>\n</div>"
     },
     "metadata": {},
     "execution_count": 89
    }
   ],
   "source": [
    "df\n",
    "y_df = df['type']\n",
    "y_df\n",
    "x_df = df.drop('type',axis = 1)\n",
    "x_df"
   ]
  },
  {
   "cell_type": "code",
   "execution_count": 92,
   "metadata": {},
   "outputs": [
    {
     "output_type": "execute_result",
     "data": {
      "text/plain": [
       "LogisticRegression(max_iter=10000)"
      ]
     },
     "metadata": {},
     "execution_count": 92
    }
   ],
   "source": [
    "from sklearn.model_selection import train_test_split\n",
    "X_train,X_test,y_train,y_test = train_test_split(x_df,y_df,test_size=0.2)\n",
    "from sklearn.linear_model import LogisticRegression\n",
    "model = LogisticRegression(solver='lbfgs', max_iter=10000)\n",
    "model.fit(X_train,y_train)"
   ]
  },
  {
   "cell_type": "code",
   "execution_count": 78,
   "metadata": {},
   "outputs": [
    {
     "output_type": "execute_result",
     "data": {
      "text/plain": [
       "array([0, 1, 1, 1, 1, 1, 1, 1, 1, 0, 1, 1, 1, 1, 1, 0, 0, 1, 0, 1, 0, 0,\n",
       "       0, 0, 1, 1, 1, 1, 1, 1, 1, 1, 1, 1, 1, 1, 1, 1, 1, 0, 1, 0, 1, 1,\n",
       "       0, 1, 0, 1, 1, 1, 1, 1, 1, 1, 1, 0, 0, 0, 1, 1, 1, 1, 0, 1, 1, 0,\n",
       "       0, 0, 1, 1, 1, 1, 0, 1, 1, 1, 1, 0, 0, 1, 1, 1, 0, 1, 1, 0, 0, 0,\n",
       "       1, 1, 1, 1, 1, 1, 0, 0, 1, 1, 1, 1, 1, 1, 0, 0, 1, 1, 0, 1, 1, 1,\n",
       "       1, 1, 1, 0], dtype=int64)"
      ]
     },
     "metadata": {},
     "execution_count": 78
    }
   ],
   "source": [
    "y_predict = model.predict(X_test)\n",
    "y_predict"
   ]
  },
  {
   "cell_type": "code",
   "execution_count": 50,
   "metadata": {},
   "outputs": [
    {
     "output_type": "execute_result",
     "data": {
      "text/plain": [
       "0.956140350877193"
      ]
     },
     "metadata": {},
     "execution_count": 50
    }
   ],
   "source": [
    "from sklearn.metrics import accuracy_score\n",
    "score = accuracy_score(y_predict,y_test)\n",
    "score"
   ]
  },
  {
   "cell_type": "code",
   "execution_count": 69,
   "metadata": {},
   "outputs": [
    {
     "output_type": "execute_result",
     "data": {
      "text/plain": [
       "        预测不患癌症  预测患癌症\n",
       "实际不患癌症      32      4\n",
       "实际患癌症        1     77"
      ],
      "text/html": "<div>\n<style scoped>\n    .dataframe tbody tr th:only-of-type {\n        vertical-align: middle;\n    }\n\n    .dataframe tbody tr th {\n        vertical-align: top;\n    }\n\n    .dataframe thead th {\n        text-align: right;\n    }\n</style>\n<table border=\"1\" class=\"dataframe\">\n  <thead>\n    <tr style=\"text-align: right;\">\n      <th></th>\n      <th>预测不患癌症</th>\n      <th>预测患癌症</th>\n    </tr>\n  </thead>\n  <tbody>\n    <tr>\n      <th>实际不患癌症</th>\n      <td>32</td>\n      <td>4</td>\n    </tr>\n    <tr>\n      <th>实际患癌症</th>\n      <td>1</td>\n      <td>77</td>\n    </tr>\n  </tbody>\n</table>\n</div>"
     },
     "metadata": {},
     "execution_count": 69
    }
   ],
   "source": [
    "from sklearn.metrics import confusion_matrix\n",
    "i = pd.DataFrame(confusion_matrix(y_test, y_predict),index = ['实际不患癌症','实际患癌症'],columns = ['预测不患癌症','预测患癌症'])\n",
    "i"
   ]
  },
  {
   "cell_type": "code",
   "execution_count": 73,
   "metadata": {},
   "outputs": [
    {
     "output_type": "stream",
     "name": "stdout",
     "text": [
      "[[ 0.98207184  0.0976227  -0.49493959  0.04729314 -0.16036035 -0.17420627\n  -0.48258643 -0.26651504 -0.22945646 -0.02800128  0.00412599  0.602549\n   0.49275062 -0.09049992 -0.03612656  0.02196009 -0.0922625  -0.04523804\n  -0.05981657  0.0058331   0.33503741 -0.36548402 -0.09730174 -0.02342359\n  -0.29275998 -0.3044415  -0.94559062 -0.46007258 -0.62750473 -0.0600907 ]]\n[35.81126362]\n"
     ]
    }
   ],
   "source": [
    "print(model.coef_)\n",
    "print(model.intercept_)"
   ]
  },
  {
   "cell_type": "code",
   "execution_count": 93,
   "metadata": {},
   "outputs": [
    {
     "output_type": "execute_result",
     "data": {
      "text/plain": [
       "      分类为0的概率       分类为1的概率\n",
       "0    0.000640  9.993600e-01\n",
       "1    0.000064  9.999355e-01\n",
       "2    0.999945  5.544965e-05\n",
       "3    0.011189  9.888112e-01\n",
       "4    1.000000  2.327405e-10\n",
       "..        ...           ...\n",
       "109  0.000128  9.998715e-01\n",
       "110  0.101686  8.983138e-01\n",
       "111  0.000646  9.993544e-01\n",
       "112  1.000000  1.111192e-09\n",
       "113  0.153451  8.465494e-01\n",
       "\n",
       "[114 rows x 2 columns]"
      ],
      "text/html": "<div>\n<style scoped>\n    .dataframe tbody tr th:only-of-type {\n        vertical-align: middle;\n    }\n\n    .dataframe tbody tr th {\n        vertical-align: top;\n    }\n\n    .dataframe thead th {\n        text-align: right;\n    }\n</style>\n<table border=\"1\" class=\"dataframe\">\n  <thead>\n    <tr style=\"text-align: right;\">\n      <th></th>\n      <th>分类为0的概率</th>\n      <th>分类为1的概率</th>\n    </tr>\n  </thead>\n  <tbody>\n    <tr>\n      <th>0</th>\n      <td>0.000640</td>\n      <td>9.993600e-01</td>\n    </tr>\n    <tr>\n      <th>1</th>\n      <td>0.000064</td>\n      <td>9.999355e-01</td>\n    </tr>\n    <tr>\n      <th>2</th>\n      <td>0.999945</td>\n      <td>5.544965e-05</td>\n    </tr>\n    <tr>\n      <th>3</th>\n      <td>0.011189</td>\n      <td>9.888112e-01</td>\n    </tr>\n    <tr>\n      <th>4</th>\n      <td>1.000000</td>\n      <td>2.327405e-10</td>\n    </tr>\n    <tr>\n      <th>...</th>\n      <td>...</td>\n      <td>...</td>\n    </tr>\n    <tr>\n      <th>109</th>\n      <td>0.000128</td>\n      <td>9.998715e-01</td>\n    </tr>\n    <tr>\n      <th>110</th>\n      <td>0.101686</td>\n      <td>8.983138e-01</td>\n    </tr>\n    <tr>\n      <th>111</th>\n      <td>0.000646</td>\n      <td>9.993544e-01</td>\n    </tr>\n    <tr>\n      <th>112</th>\n      <td>1.000000</td>\n      <td>1.111192e-09</td>\n    </tr>\n    <tr>\n      <th>113</th>\n      <td>0.153451</td>\n      <td>8.465494e-01</td>\n    </tr>\n  </tbody>\n</table>\n<p>114 rows × 2 columns</p>\n</div>"
     },
     "metadata": {},
     "execution_count": 93
    }
   ],
   "source": [
    "y_pred_proba = model.predict_proba(X_test)\n",
    "y_pred_proba\n",
    "a = pd.DataFrame(y_pred_proba,columns = ['分类为0的概率','分类为1的概率'])\n",
    "a"
   ]
  },
  {
   "cell_type": "code",
   "execution_count": 105,
   "metadata": {},
   "outputs": [
    {
     "output_type": "display_data",
     "data": {
      "text/plain": "<Figure size 432x288 with 1 Axes>",
      "image/svg+xml": "<?xml version=\"1.0\" encoding=\"utf-8\" standalone=\"no\"?>\r\n<!DOCTYPE svg PUBLIC \"-//W3C//DTD SVG 1.1//EN\"\r\n  \"http://www.w3.org/Graphics/SVG/1.1/DTD/svg11.dtd\">\r\n<!-- Created with matplotlib (https://matplotlib.org/) -->\r\n<svg height=\"248.518125pt\" version=\"1.1\" viewBox=\"0 0 372.103125 248.518125\" width=\"372.103125pt\" xmlns=\"http://www.w3.org/2000/svg\" xmlns:xlink=\"http://www.w3.org/1999/xlink\">\r\n <metadata>\r\n  <rdf:RDF xmlns:cc=\"http://creativecommons.org/ns#\" xmlns:dc=\"http://purl.org/dc/elements/1.1/\" xmlns:rdf=\"http://www.w3.org/1999/02/22-rdf-syntax-ns#\">\r\n   <cc:Work>\r\n    <dc:type rdf:resource=\"http://purl.org/dc/dcmitype/StillImage\"/>\r\n    <dc:date>2021-03-30T22:09:50.459549</dc:date>\r\n    <dc:format>image/svg+xml</dc:format>\r\n    <dc:creator>\r\n     <cc:Agent>\r\n      <dc:title>Matplotlib v3.3.2, https://matplotlib.org/</dc:title>\r\n     </cc:Agent>\r\n    </dc:creator>\r\n   </cc:Work>\r\n  </rdf:RDF>\r\n </metadata>\r\n <defs>\r\n  <style type=\"text/css\">*{stroke-linecap:butt;stroke-linejoin:round;}</style>\r\n </defs>\r\n <g id=\"figure_1\">\r\n  <g id=\"patch_1\">\r\n   <path d=\"M 0 248.518125 \r\nL 372.103125 248.518125 \r\nL 372.103125 0 \r\nL 0 0 \r\nz\r\n\" style=\"fill:none;\"/>\r\n  </g>\r\n  <g id=\"axes_1\">\r\n   <g id=\"patch_2\">\r\n    <path d=\"M 30.103125 224.64 \r\nL 364.903125 224.64 \r\nL 364.903125 7.2 \r\nL 30.103125 7.2 \r\nz\r\n\" style=\"fill:#ffffff;\"/>\r\n   </g>\r\n   <g id=\"PathCollection_1\">\r\n    <defs>\r\n     <path d=\"M 0 3 \r\nC 0.795609 3 1.55874 2.683901 2.12132 2.12132 \r\nC 2.683901 1.55874 3 0.795609 3 0 \r\nC 3 -0.795609 2.683901 -1.55874 2.12132 -2.12132 \r\nC 1.55874 -2.683901 0.795609 -3 0 -3 \r\nC -0.795609 -3 -1.55874 -2.683901 -2.12132 -2.12132 \r\nC -2.683901 -1.55874 -3 -0.795609 -3 0 \r\nC -3 0.795609 -2.683901 1.55874 -2.12132 2.12132 \r\nC -1.55874 2.683901 -0.795609 3 0 3 \r\nz\r\n\" id=\"m46947ad95e\" style=\"stroke:#ff0000;stroke-opacity:0.4;\"/>\r\n    </defs>\r\n    <g clip-path=\"url(#p56b820bc10)\">\r\n     <use style=\"fill:#ff0000;fill-opacity:0.4;stroke:#ff0000;stroke-opacity:0.4;\" x=\"45.321307\" xlink:href=\"#m46947ad95e\" y=\"17.207861\"/>\r\n     <use style=\"fill:#ff0000;fill-opacity:0.4;stroke:#ff0000;stroke-opacity:0.4;\" x=\"349.684943\" xlink:href=\"#m46947ad95e\" y=\"17.09409\"/>\r\n     <use style=\"fill:#ff0000;fill-opacity:0.4;stroke:#ff0000;stroke-opacity:0.4;\" x=\"349.684943\" xlink:href=\"#m46947ad95e\" y=\"19.293098\"/>\r\n     <use style=\"fill:#ff0000;fill-opacity:0.4;stroke:#ff0000;stroke-opacity:0.4;\" x=\"349.684943\" xlink:href=\"#m46947ad95e\" y=\"17.177463\"/>\r\n     <use style=\"fill:#ff0000;fill-opacity:0.4;stroke:#ff0000;stroke-opacity:0.4;\" x=\"349.684943\" xlink:href=\"#m46947ad95e\" y=\"17.292083\"/>\r\n     <use style=\"fill:#ff0000;fill-opacity:0.4;stroke:#ff0000;stroke-opacity:0.4;\" x=\"349.684943\" xlink:href=\"#m46947ad95e\" y=\"17.087635\"/>\r\n     <use style=\"fill:#ff0000;fill-opacity:0.4;stroke:#ff0000;stroke-opacity:0.4;\" x=\"45.321307\" xlink:href=\"#m46947ad95e\" y=\"20.58909\"/>\r\n     <use style=\"fill:#ff0000;fill-opacity:0.4;stroke:#ff0000;stroke-opacity:0.4;\" x=\"349.684943\" xlink:href=\"#m46947ad95e\" y=\"199.634542\"/>\r\n     <use style=\"fill:#ff0000;fill-opacity:0.4;stroke:#ff0000;stroke-opacity:0.4;\" x=\"349.684943\" xlink:href=\"#m46947ad95e\" y=\"32.443845\"/>\r\n     <use style=\"fill:#ff0000;fill-opacity:0.4;stroke:#ff0000;stroke-opacity:0.4;\" x=\"349.684943\" xlink:href=\"#m46947ad95e\" y=\"46.878128\"/>\r\n     <use style=\"fill:#ff0000;fill-opacity:0.4;stroke:#ff0000;stroke-opacity:0.4;\" x=\"349.684943\" xlink:href=\"#m46947ad95e\" y=\"17.131635\"/>\r\n     <use style=\"fill:#ff0000;fill-opacity:0.4;stroke:#ff0000;stroke-opacity:0.4;\" x=\"45.321307\" xlink:href=\"#m46947ad95e\" y=\"17.371637\"/>\r\n     <use style=\"fill:#ff0000;fill-opacity:0.4;stroke:#ff0000;stroke-opacity:0.4;\" x=\"45.321307\" xlink:href=\"#m46947ad95e\" y=\"19.786711\"/>\r\n     <use style=\"fill:#ff0000;fill-opacity:0.4;stroke:#ff0000;stroke-opacity:0.4;\" x=\"349.684943\" xlink:href=\"#m46947ad95e\" y=\"17.083703\"/>\r\n     <use style=\"fill:#ff0000;fill-opacity:0.4;stroke:#ff0000;stroke-opacity:0.4;\" x=\"349.684943\" xlink:href=\"#m46947ad95e\" y=\"17.133689\"/>\r\n     <use style=\"fill:#ff0000;fill-opacity:0.4;stroke:#ff0000;stroke-opacity:0.4;\" x=\"349.684943\" xlink:href=\"#m46947ad95e\" y=\"41.65615\"/>\r\n     <use style=\"fill:#ff0000;fill-opacity:0.4;stroke:#ff0000;stroke-opacity:0.4;\" x=\"349.684943\" xlink:href=\"#m46947ad95e\" y=\"22.237275\"/>\r\n     <use style=\"fill:#ff0000;fill-opacity:0.4;stroke:#ff0000;stroke-opacity:0.4;\" x=\"349.684943\" xlink:href=\"#m46947ad95e\" y=\"17.146176\"/>\r\n     <use style=\"fill:#ff0000;fill-opacity:0.4;stroke:#ff0000;stroke-opacity:0.4;\" x=\"349.684943\" xlink:href=\"#m46947ad95e\" y=\"17.771677\"/>\r\n     <use style=\"fill:#ff0000;fill-opacity:0.4;stroke:#ff0000;stroke-opacity:0.4;\" x=\"349.684943\" xlink:href=\"#m46947ad95e\" y=\"17.083759\"/>\r\n     <use style=\"fill:#ff0000;fill-opacity:0.4;stroke:#ff0000;stroke-opacity:0.4;\" x=\"349.684943\" xlink:href=\"#m46947ad95e\" y=\"22.200235\"/>\r\n     <use style=\"fill:#ff0000;fill-opacity:0.4;stroke:#ff0000;stroke-opacity:0.4;\" x=\"349.684943\" xlink:href=\"#m46947ad95e\" y=\"22.856579\"/>\r\n     <use style=\"fill:#ff0000;fill-opacity:0.4;stroke:#ff0000;stroke-opacity:0.4;\" x=\"349.684943\" xlink:href=\"#m46947ad95e\" y=\"17.116813\"/>\r\n     <use style=\"fill:#ff0000;fill-opacity:0.4;stroke:#ff0000;stroke-opacity:0.4;\" x=\"349.684943\" xlink:href=\"#m46947ad95e\" y=\"18.472602\"/>\r\n     <use style=\"fill:#ff0000;fill-opacity:0.4;stroke:#ff0000;stroke-opacity:0.4;\" x=\"349.684943\" xlink:href=\"#m46947ad95e\" y=\"17.083636\"/>\r\n     <use style=\"fill:#ff0000;fill-opacity:0.4;stroke:#ff0000;stroke-opacity:0.4;\" x=\"45.321307\" xlink:href=\"#m46947ad95e\" y=\"17.174644\"/>\r\n     <use style=\"fill:#ff0000;fill-opacity:0.4;stroke:#ff0000;stroke-opacity:0.4;\" x=\"45.321307\" xlink:href=\"#m46947ad95e\" y=\"17.416337\"/>\r\n     <use style=\"fill:#ff0000;fill-opacity:0.4;stroke:#ff0000;stroke-opacity:0.4;\" x=\"349.684943\" xlink:href=\"#m46947ad95e\" y=\"17.353361\"/>\r\n     <use style=\"fill:#ff0000;fill-opacity:0.4;stroke:#ff0000;stroke-opacity:0.4;\" x=\"349.684943\" xlink:href=\"#m46947ad95e\" y=\"19.212176\"/>\r\n     <use style=\"fill:#ff0000;fill-opacity:0.4;stroke:#ff0000;stroke-opacity:0.4;\" x=\"45.321307\" xlink:href=\"#m46947ad95e\" y=\"18.246947\"/>\r\n     <use style=\"fill:#ff0000;fill-opacity:0.4;stroke:#ff0000;stroke-opacity:0.4;\" x=\"349.684943\" xlink:href=\"#m46947ad95e\" y=\"17.086669\"/>\r\n     <use style=\"fill:#ff0000;fill-opacity:0.4;stroke:#ff0000;stroke-opacity:0.4;\" x=\"45.321307\" xlink:href=\"#m46947ad95e\" y=\"17.313234\"/>\r\n     <use style=\"fill:#ff0000;fill-opacity:0.4;stroke:#ff0000;stroke-opacity:0.4;\" x=\"45.321307\" xlink:href=\"#m46947ad95e\" y=\"72.445789\"/>\r\n     <use style=\"fill:#ff0000;fill-opacity:0.4;stroke:#ff0000;stroke-opacity:0.4;\" x=\"45.321307\" xlink:href=\"#m46947ad95e\" y=\"17.146311\"/>\r\n     <use style=\"fill:#ff0000;fill-opacity:0.4;stroke:#ff0000;stroke-opacity:0.4;\" x=\"349.684943\" xlink:href=\"#m46947ad95e\" y=\"17.096174\"/>\r\n     <use style=\"fill:#ff0000;fill-opacity:0.4;stroke:#ff0000;stroke-opacity:0.4;\" x=\"349.684943\" xlink:href=\"#m46947ad95e\" y=\"29.87645\"/>\r\n     <use style=\"fill:#ff0000;fill-opacity:0.4;stroke:#ff0000;stroke-opacity:0.4;\" x=\"349.684943\" xlink:href=\"#m46947ad95e\" y=\"17.15939\"/>\r\n     <use style=\"fill:#ff0000;fill-opacity:0.4;stroke:#ff0000;stroke-opacity:0.4;\" x=\"349.684943\" xlink:href=\"#m46947ad95e\" y=\"17.286336\"/>\r\n     <use style=\"fill:#ff0000;fill-opacity:0.4;stroke:#ff0000;stroke-opacity:0.4;\" x=\"349.684943\" xlink:href=\"#m46947ad95e\" y=\"31.914975\"/>\r\n     <use style=\"fill:#ff0000;fill-opacity:0.4;stroke:#ff0000;stroke-opacity:0.4;\" x=\"349.684943\" xlink:href=\"#m46947ad95e\" y=\"29.50588\"/>\r\n     <use style=\"fill:#ff0000;fill-opacity:0.4;stroke:#ff0000;stroke-opacity:0.4;\" x=\"45.321307\" xlink:href=\"#m46947ad95e\" y=\"17.492076\"/>\r\n     <use style=\"fill:#ff0000;fill-opacity:0.4;stroke:#ff0000;stroke-opacity:0.4;\" x=\"349.684943\" xlink:href=\"#m46947ad95e\" y=\"20.494751\"/>\r\n     <use style=\"fill:#ff0000;fill-opacity:0.4;stroke:#ff0000;stroke-opacity:0.4;\" x=\"45.321307\" xlink:href=\"#m46947ad95e\" y=\"21.448639\"/>\r\n     <use style=\"fill:#ff0000;fill-opacity:0.4;stroke:#ff0000;stroke-opacity:0.4;\" x=\"349.684943\" xlink:href=\"#m46947ad95e\" y=\"17.09541\"/>\r\n     <use style=\"fill:#ff0000;fill-opacity:0.4;stroke:#ff0000;stroke-opacity:0.4;\" x=\"349.684943\" xlink:href=\"#m46947ad95e\" y=\"19.505274\"/>\r\n     <use style=\"fill:#ff0000;fill-opacity:0.4;stroke:#ff0000;stroke-opacity:0.4;\" x=\"45.321307\" xlink:href=\"#m46947ad95e\" y=\"17.537368\"/>\r\n     <use style=\"fill:#ff0000;fill-opacity:0.4;stroke:#ff0000;stroke-opacity:0.4;\" x=\"45.321307\" xlink:href=\"#m46947ad95e\" y=\"17.088635\"/>\r\n     <use style=\"fill:#ff0000;fill-opacity:0.4;stroke:#ff0000;stroke-opacity:0.4;\" x=\"349.684943\" xlink:href=\"#m46947ad95e\" y=\"17.122854\"/>\r\n     <use style=\"fill:#ff0000;fill-opacity:0.4;stroke:#ff0000;stroke-opacity:0.4;\" x=\"349.684943\" xlink:href=\"#m46947ad95e\" y=\"17.720375\"/>\r\n     <use style=\"fill:#ff0000;fill-opacity:0.4;stroke:#ff0000;stroke-opacity:0.4;\" x=\"45.321307\" xlink:href=\"#m46947ad95e\" y=\"20.84692\"/>\r\n     <use style=\"fill:#ff0000;fill-opacity:0.4;stroke:#ff0000;stroke-opacity:0.4;\" x=\"349.684943\" xlink:href=\"#m46947ad95e\" y=\"17.319835\"/>\r\n     <use style=\"fill:#ff0000;fill-opacity:0.4;stroke:#ff0000;stroke-opacity:0.4;\" x=\"349.684943\" xlink:href=\"#m46947ad95e\" y=\"17.08747\"/>\r\n     <use style=\"fill:#ff0000;fill-opacity:0.4;stroke:#ff0000;stroke-opacity:0.4;\" x=\"349.684943\" xlink:href=\"#m46947ad95e\" y=\"17.088259\"/>\r\n     <use style=\"fill:#ff0000;fill-opacity:0.4;stroke:#ff0000;stroke-opacity:0.4;\" x=\"349.684943\" xlink:href=\"#m46947ad95e\" y=\"17.328386\"/>\r\n     <use style=\"fill:#ff0000;fill-opacity:0.4;stroke:#ff0000;stroke-opacity:0.4;\" x=\"349.684943\" xlink:href=\"#m46947ad95e\" y=\"25.846461\"/>\r\n     <use style=\"fill:#ff0000;fill-opacity:0.4;stroke:#ff0000;stroke-opacity:0.4;\" x=\"349.684943\" xlink:href=\"#m46947ad95e\" y=\"20.102931\"/>\r\n     <use style=\"fill:#ff0000;fill-opacity:0.4;stroke:#ff0000;stroke-opacity:0.4;\" x=\"349.684943\" xlink:href=\"#m46947ad95e\" y=\"17.121914\"/>\r\n     <use style=\"fill:#ff0000;fill-opacity:0.4;stroke:#ff0000;stroke-opacity:0.4;\" x=\"349.684943\" xlink:href=\"#m46947ad95e\" y=\"19.152199\"/>\r\n     <use style=\"fill:#ff0000;fill-opacity:0.4;stroke:#ff0000;stroke-opacity:0.4;\" x=\"349.684943\" xlink:href=\"#m46947ad95e\" y=\"17.106743\"/>\r\n     <use style=\"fill:#ff0000;fill-opacity:0.4;stroke:#ff0000;stroke-opacity:0.4;\" x=\"349.684943\" xlink:href=\"#m46947ad95e\" y=\"37.182156\"/>\r\n     <use style=\"fill:#ff0000;fill-opacity:0.4;stroke:#ff0000;stroke-opacity:0.4;\" x=\"349.684943\" xlink:href=\"#m46947ad95e\" y=\"17.208967\"/>\r\n     <use style=\"fill:#ff0000;fill-opacity:0.4;stroke:#ff0000;stroke-opacity:0.4;\" x=\"45.321307\" xlink:href=\"#m46947ad95e\" y=\"47.414699\"/>\r\n    </g>\r\n   </g>\r\n   <g id=\"PathCollection_2\">\r\n    <defs>\r\n     <path d=\"M 0 3 \r\nC 0.795609 3 1.55874 2.683901 2.12132 2.12132 \r\nC 2.683901 1.55874 3 0.795609 3 0 \r\nC 3 -0.795609 2.683901 -1.55874 2.12132 -2.12132 \r\nC 1.55874 -2.683901 0.795609 -3 0 -3 \r\nC -0.795609 -3 -1.55874 -2.683901 -2.12132 -2.12132 \r\nC -2.683901 -1.55874 -3 -0.795609 -3 0 \r\nC -3 0.795609 -2.683901 1.55874 -2.12132 2.12132 \r\nC -1.55874 2.683901 -0.795609 3 0 3 \r\nz\r\n\" id=\"ma726978743\" style=\"stroke:#0000ff;stroke-opacity:0.4;\"/>\r\n    </defs>\r\n    <g clip-path=\"url(#p56b820bc10)\">\r\n     <use style=\"fill:#0000ff;fill-opacity:0.4;stroke:#0000ff;stroke-opacity:0.4;\" x=\"349.684943\" xlink:href=\"#ma726978743\" y=\"214.745403\"/>\r\n     <use style=\"fill:#0000ff;fill-opacity:0.4;stroke:#0000ff;stroke-opacity:0.4;\" x=\"349.684943\" xlink:href=\"#ma726978743\" y=\"214.756364\"/>\r\n     <use style=\"fill:#0000ff;fill-opacity:0.4;stroke:#0000ff;stroke-opacity:0.4;\" x=\"349.684943\" xlink:href=\"#ma726978743\" y=\"214.195047\"/>\r\n     <use style=\"fill:#0000ff;fill-opacity:0.4;stroke:#0000ff;stroke-opacity:0.4;\" x=\"349.684943\" xlink:href=\"#ma726978743\" y=\"214.756362\"/>\r\n     <use style=\"fill:#0000ff;fill-opacity:0.4;stroke:#0000ff;stroke-opacity:0.4;\" x=\"45.321307\" xlink:href=\"#ma726978743\" y=\"214.756364\"/>\r\n     <use style=\"fill:#0000ff;fill-opacity:0.4;stroke:#0000ff;stroke-opacity:0.4;\" x=\"45.321307\" xlink:href=\"#ma726978743\" y=\"214.756364\"/>\r\n     <use style=\"fill:#0000ff;fill-opacity:0.4;stroke:#0000ff;stroke-opacity:0.4;\" x=\"349.684943\" xlink:href=\"#ma726978743\" y=\"214.733706\"/>\r\n     <use style=\"fill:#0000ff;fill-opacity:0.4;stroke:#0000ff;stroke-opacity:0.4;\" x=\"45.321307\" xlink:href=\"#ma726978743\" y=\"214.756178\"/>\r\n     <use style=\"fill:#0000ff;fill-opacity:0.4;stroke:#0000ff;stroke-opacity:0.4;\" x=\"349.684943\" xlink:href=\"#ma726978743\" y=\"214.756358\"/>\r\n     <use style=\"fill:#0000ff;fill-opacity:0.4;stroke:#0000ff;stroke-opacity:0.4;\" x=\"45.321307\" xlink:href=\"#ma726978743\" y=\"209.638173\"/>\r\n     <use style=\"fill:#0000ff;fill-opacity:0.4;stroke:#0000ff;stroke-opacity:0.4;\" x=\"45.321307\" xlink:href=\"#ma726978743\" y=\"172.847234\"/>\r\n     <use style=\"fill:#0000ff;fill-opacity:0.4;stroke:#0000ff;stroke-opacity:0.4;\" x=\"349.684943\" xlink:href=\"#ma726978743\" y=\"62.589916\"/>\r\n     <use style=\"fill:#0000ff;fill-opacity:0.4;stroke:#0000ff;stroke-opacity:0.4;\" x=\"349.684943\" xlink:href=\"#ma726978743\" y=\"212.800963\"/>\r\n     <use style=\"fill:#0000ff;fill-opacity:0.4;stroke:#0000ff;stroke-opacity:0.4;\" x=\"349.684943\" xlink:href=\"#ma726978743\" y=\"214.756364\"/>\r\n     <use style=\"fill:#0000ff;fill-opacity:0.4;stroke:#0000ff;stroke-opacity:0.4;\" x=\"349.684943\" xlink:href=\"#ma726978743\" y=\"214.756336\"/>\r\n     <use style=\"fill:#0000ff;fill-opacity:0.4;stroke:#0000ff;stroke-opacity:0.4;\" x=\"349.684943\" xlink:href=\"#ma726978743\" y=\"214.259976\"/>\r\n     <use style=\"fill:#0000ff;fill-opacity:0.4;stroke:#0000ff;stroke-opacity:0.4;\" x=\"349.684943\" xlink:href=\"#ma726978743\" y=\"214.732002\"/>\r\n     <use style=\"fill:#0000ff;fill-opacity:0.4;stroke:#0000ff;stroke-opacity:0.4;\" x=\"349.684943\" xlink:href=\"#ma726978743\" y=\"214.756359\"/>\r\n     <use style=\"fill:#0000ff;fill-opacity:0.4;stroke:#0000ff;stroke-opacity:0.4;\" x=\"45.321307\" xlink:href=\"#ma726978743\" y=\"214.71977\"/>\r\n     <use style=\"fill:#0000ff;fill-opacity:0.4;stroke:#0000ff;stroke-opacity:0.4;\" x=\"45.321307\" xlink:href=\"#ma726978743\" y=\"214.754278\"/>\r\n     <use style=\"fill:#0000ff;fill-opacity:0.4;stroke:#0000ff;stroke-opacity:0.4;\" x=\"349.684943\" xlink:href=\"#ma726978743\" y=\"214.756364\"/>\r\n     <use style=\"fill:#0000ff;fill-opacity:0.4;stroke:#0000ff;stroke-opacity:0.4;\" x=\"349.684943\" xlink:href=\"#ma726978743\" y=\"214.756248\"/>\r\n     <use style=\"fill:#0000ff;fill-opacity:0.4;stroke:#0000ff;stroke-opacity:0.4;\" x=\"45.321307\" xlink:href=\"#ma726978743\" y=\"214.754553\"/>\r\n     <use style=\"fill:#0000ff;fill-opacity:0.4;stroke:#0000ff;stroke-opacity:0.4;\" x=\"45.321307\" xlink:href=\"#ma726978743\" y=\"210.928695\"/>\r\n     <use style=\"fill:#0000ff;fill-opacity:0.4;stroke:#0000ff;stroke-opacity:0.4;\" x=\"349.684943\" xlink:href=\"#ma726978743\" y=\"214.120502\"/>\r\n     <use style=\"fill:#0000ff;fill-opacity:0.4;stroke:#0000ff;stroke-opacity:0.4;\" x=\"349.684943\" xlink:href=\"#ma726978743\" y=\"191.257657\"/>\r\n     <use style=\"fill:#0000ff;fill-opacity:0.4;stroke:#0000ff;stroke-opacity:0.4;\" x=\"349.684943\" xlink:href=\"#ma726978743\" y=\"214.756363\"/>\r\n     <use style=\"fill:#0000ff;fill-opacity:0.4;stroke:#0000ff;stroke-opacity:0.4;\" x=\"349.684943\" xlink:href=\"#ma726978743\" y=\"214.130074\"/>\r\n     <use style=\"fill:#0000ff;fill-opacity:0.4;stroke:#0000ff;stroke-opacity:0.4;\" x=\"349.684943\" xlink:href=\"#ma726978743\" y=\"214.753193\"/>\r\n     <use style=\"fill:#0000ff;fill-opacity:0.4;stroke:#0000ff;stroke-opacity:0.4;\" x=\"349.684943\" xlink:href=\"#ma726978743\" y=\"124.683838\"/>\r\n     <use style=\"fill:#0000ff;fill-opacity:0.4;stroke:#0000ff;stroke-opacity:0.4;\" x=\"45.321307\" xlink:href=\"#ma726978743\" y=\"214.756364\"/>\r\n     <use style=\"fill:#0000ff;fill-opacity:0.4;stroke:#0000ff;stroke-opacity:0.4;\" x=\"349.684943\" xlink:href=\"#ma726978743\" y=\"117.542624\"/>\r\n     <use style=\"fill:#0000ff;fill-opacity:0.4;stroke:#0000ff;stroke-opacity:0.4;\" x=\"349.684943\" xlink:href=\"#ma726978743\" y=\"214.705646\"/>\r\n     <use style=\"fill:#0000ff;fill-opacity:0.4;stroke:#0000ff;stroke-opacity:0.4;\" x=\"349.684943\" xlink:href=\"#ma726978743\" y=\"214.755976\"/>\r\n     <use style=\"fill:#0000ff;fill-opacity:0.4;stroke:#0000ff;stroke-opacity:0.4;\" x=\"349.684943\" xlink:href=\"#ma726978743\" y=\"214.756364\"/>\r\n     <use style=\"fill:#0000ff;fill-opacity:0.4;stroke:#0000ff;stroke-opacity:0.4;\" x=\"45.321307\" xlink:href=\"#ma726978743\" y=\"60.899952\"/>\r\n     <use style=\"fill:#0000ff;fill-opacity:0.4;stroke:#0000ff;stroke-opacity:0.4;\" x=\"349.684943\" xlink:href=\"#ma726978743\" y=\"84.848397\"/>\r\n     <use style=\"fill:#0000ff;fill-opacity:0.4;stroke:#0000ff;stroke-opacity:0.4;\" x=\"45.321307\" xlink:href=\"#ma726978743\" y=\"214.756364\"/>\r\n     <use style=\"fill:#0000ff;fill-opacity:0.4;stroke:#0000ff;stroke-opacity:0.4;\" x=\"349.684943\" xlink:href=\"#ma726978743\" y=\"214.756364\"/>\r\n     <use style=\"fill:#0000ff;fill-opacity:0.4;stroke:#0000ff;stroke-opacity:0.4;\" x=\"349.684943\" xlink:href=\"#ma726978743\" y=\"214.756357\"/>\r\n     <use style=\"fill:#0000ff;fill-opacity:0.4;stroke:#0000ff;stroke-opacity:0.4;\" x=\"45.321307\" xlink:href=\"#ma726978743\" y=\"205.283062\"/>\r\n     <use style=\"fill:#0000ff;fill-opacity:0.4;stroke:#0000ff;stroke-opacity:0.4;\" x=\"349.684943\" xlink:href=\"#ma726978743\" y=\"214.752285\"/>\r\n     <use style=\"fill:#0000ff;fill-opacity:0.4;stroke:#0000ff;stroke-opacity:0.4;\" x=\"349.684943\" xlink:href=\"#ma726978743\" y=\"214.755038\"/>\r\n     <use style=\"fill:#0000ff;fill-opacity:0.4;stroke:#0000ff;stroke-opacity:0.4;\" x=\"349.684943\" xlink:href=\"#ma726978743\" y=\"148.345695\"/>\r\n     <use style=\"fill:#0000ff;fill-opacity:0.4;stroke:#0000ff;stroke-opacity:0.4;\" x=\"349.684943\" xlink:href=\"#ma726978743\" y=\"214.619582\"/>\r\n     <use style=\"fill:#0000ff;fill-opacity:0.4;stroke:#0000ff;stroke-opacity:0.4;\" x=\"45.321307\" xlink:href=\"#ma726978743\" y=\"214.749658\"/>\r\n     <use style=\"fill:#0000ff;fill-opacity:0.4;stroke:#0000ff;stroke-opacity:0.4;\" x=\"349.684943\" xlink:href=\"#ma726978743\" y=\"214.756364\"/>\r\n     <use style=\"fill:#0000ff;fill-opacity:0.4;stroke:#0000ff;stroke-opacity:0.4;\" x=\"45.321307\" xlink:href=\"#ma726978743\" y=\"212.983924\"/>\r\n     <use style=\"fill:#0000ff;fill-opacity:0.4;stroke:#0000ff;stroke-opacity:0.4;\" x=\"45.321307\" xlink:href=\"#ma726978743\" y=\"214.756364\"/>\r\n     <use style=\"fill:#0000ff;fill-opacity:0.4;stroke:#0000ff;stroke-opacity:0.4;\" x=\"45.321307\" xlink:href=\"#ma726978743\" y=\"214.750211\"/>\r\n     <use style=\"fill:#0000ff;fill-opacity:0.4;stroke:#0000ff;stroke-opacity:0.4;\" x=\"349.684943\" xlink:href=\"#ma726978743\" y=\"214.754406\"/>\r\n     <use style=\"fill:#0000ff;fill-opacity:0.4;stroke:#0000ff;stroke-opacity:0.4;\" x=\"349.684943\" xlink:href=\"#ma726978743\" y=\"214.756363\"/>\r\n    </g>\r\n   </g>\r\n   <g id=\"matplotlib.axis_1\">\r\n    <g id=\"xtick_1\">\r\n     <g id=\"line2d_1\">\r\n      <defs>\r\n       <path d=\"M 0 0 \r\nL 0 3.5 \r\n\" id=\"m19bca05682\" style=\"stroke:#000000;stroke-width:0.8;\"/>\r\n      </defs>\r\n      <g>\r\n       <use style=\"stroke:#000000;stroke-width:0.8;\" x=\"45.321307\" xlink:href=\"#m19bca05682\" y=\"224.64\"/>\r\n      </g>\r\n     </g>\r\n     <g id=\"text_1\">\r\n      <!-- 0.0 -->\r\n      <g transform=\"translate(37.369744 239.238437)scale(0.1 -0.1)\">\r\n       <defs>\r\n        <path d=\"M 31.78125 66.40625 \r\nQ 24.171875 66.40625 20.328125 58.90625 \r\nQ 16.5 51.421875 16.5 36.375 \r\nQ 16.5 21.390625 20.328125 13.890625 \r\nQ 24.171875 6.390625 31.78125 6.390625 \r\nQ 39.453125 6.390625 43.28125 13.890625 \r\nQ 47.125 21.390625 47.125 36.375 \r\nQ 47.125 51.421875 43.28125 58.90625 \r\nQ 39.453125 66.40625 31.78125 66.40625 \r\nz\r\nM 31.78125 74.21875 \r\nQ 44.046875 74.21875 50.515625 64.515625 \r\nQ 56.984375 54.828125 56.984375 36.375 \r\nQ 56.984375 17.96875 50.515625 8.265625 \r\nQ 44.046875 -1.421875 31.78125 -1.421875 \r\nQ 19.53125 -1.421875 13.0625 8.265625 \r\nQ 6.59375 17.96875 6.59375 36.375 \r\nQ 6.59375 54.828125 13.0625 64.515625 \r\nQ 19.53125 74.21875 31.78125 74.21875 \r\nz\r\n\" id=\"DejaVuSans-48\"/>\r\n        <path d=\"M 10.6875 12.40625 \r\nL 21 12.40625 \r\nL 21 0 \r\nL 10.6875 0 \r\nz\r\n\" id=\"DejaVuSans-46\"/>\r\n       </defs>\r\n       <use xlink:href=\"#DejaVuSans-48\"/>\r\n       <use x=\"63.623047\" xlink:href=\"#DejaVuSans-46\"/>\r\n       <use x=\"95.410156\" xlink:href=\"#DejaVuSans-48\"/>\r\n      </g>\r\n     </g>\r\n    </g>\r\n    <g id=\"xtick_2\">\r\n     <g id=\"line2d_2\">\r\n      <g>\r\n       <use style=\"stroke:#000000;stroke-width:0.8;\" x=\"106.194034\" xlink:href=\"#m19bca05682\" y=\"224.64\"/>\r\n      </g>\r\n     </g>\r\n     <g id=\"text_2\">\r\n      <!-- 0.2 -->\r\n      <g transform=\"translate(98.242472 239.238437)scale(0.1 -0.1)\">\r\n       <defs>\r\n        <path d=\"M 19.1875 8.296875 \r\nL 53.609375 8.296875 \r\nL 53.609375 0 \r\nL 7.328125 0 \r\nL 7.328125 8.296875 \r\nQ 12.9375 14.109375 22.625 23.890625 \r\nQ 32.328125 33.6875 34.8125 36.53125 \r\nQ 39.546875 41.84375 41.421875 45.53125 \r\nQ 43.3125 49.21875 43.3125 52.78125 \r\nQ 43.3125 58.59375 39.234375 62.25 \r\nQ 35.15625 65.921875 28.609375 65.921875 \r\nQ 23.96875 65.921875 18.8125 64.3125 \r\nQ 13.671875 62.703125 7.8125 59.421875 \r\nL 7.8125 69.390625 \r\nQ 13.765625 71.78125 18.9375 73 \r\nQ 24.125 74.21875 28.421875 74.21875 \r\nQ 39.75 74.21875 46.484375 68.546875 \r\nQ 53.21875 62.890625 53.21875 53.421875 \r\nQ 53.21875 48.921875 51.53125 44.890625 \r\nQ 49.859375 40.875 45.40625 35.40625 \r\nQ 44.1875 33.984375 37.640625 27.21875 \r\nQ 31.109375 20.453125 19.1875 8.296875 \r\nz\r\n\" id=\"DejaVuSans-50\"/>\r\n       </defs>\r\n       <use xlink:href=\"#DejaVuSans-48\"/>\r\n       <use x=\"63.623047\" xlink:href=\"#DejaVuSans-46\"/>\r\n       <use x=\"95.410156\" xlink:href=\"#DejaVuSans-50\"/>\r\n      </g>\r\n     </g>\r\n    </g>\r\n    <g id=\"xtick_3\">\r\n     <g id=\"line2d_3\">\r\n      <g>\r\n       <use style=\"stroke:#000000;stroke-width:0.8;\" x=\"167.066761\" xlink:href=\"#m19bca05682\" y=\"224.64\"/>\r\n      </g>\r\n     </g>\r\n     <g id=\"text_3\">\r\n      <!-- 0.4 -->\r\n      <g transform=\"translate(159.115199 239.238437)scale(0.1 -0.1)\">\r\n       <defs>\r\n        <path d=\"M 37.796875 64.3125 \r\nL 12.890625 25.390625 \r\nL 37.796875 25.390625 \r\nz\r\nM 35.203125 72.90625 \r\nL 47.609375 72.90625 \r\nL 47.609375 25.390625 \r\nL 58.015625 25.390625 \r\nL 58.015625 17.1875 \r\nL 47.609375 17.1875 \r\nL 47.609375 0 \r\nL 37.796875 0 \r\nL 37.796875 17.1875 \r\nL 4.890625 17.1875 \r\nL 4.890625 26.703125 \r\nz\r\n\" id=\"DejaVuSans-52\"/>\r\n       </defs>\r\n       <use xlink:href=\"#DejaVuSans-48\"/>\r\n       <use x=\"63.623047\" xlink:href=\"#DejaVuSans-46\"/>\r\n       <use x=\"95.410156\" xlink:href=\"#DejaVuSans-52\"/>\r\n      </g>\r\n     </g>\r\n    </g>\r\n    <g id=\"xtick_4\">\r\n     <g id=\"line2d_4\">\r\n      <g>\r\n       <use style=\"stroke:#000000;stroke-width:0.8;\" x=\"227.939489\" xlink:href=\"#m19bca05682\" y=\"224.64\"/>\r\n      </g>\r\n     </g>\r\n     <g id=\"text_4\">\r\n      <!-- 0.6 -->\r\n      <g transform=\"translate(219.987926 239.238437)scale(0.1 -0.1)\">\r\n       <defs>\r\n        <path d=\"M 33.015625 40.375 \r\nQ 26.375 40.375 22.484375 35.828125 \r\nQ 18.609375 31.296875 18.609375 23.390625 \r\nQ 18.609375 15.53125 22.484375 10.953125 \r\nQ 26.375 6.390625 33.015625 6.390625 \r\nQ 39.65625 6.390625 43.53125 10.953125 \r\nQ 47.40625 15.53125 47.40625 23.390625 \r\nQ 47.40625 31.296875 43.53125 35.828125 \r\nQ 39.65625 40.375 33.015625 40.375 \r\nz\r\nM 52.59375 71.296875 \r\nL 52.59375 62.3125 \r\nQ 48.875 64.0625 45.09375 64.984375 \r\nQ 41.3125 65.921875 37.59375 65.921875 \r\nQ 27.828125 65.921875 22.671875 59.328125 \r\nQ 17.53125 52.734375 16.796875 39.40625 \r\nQ 19.671875 43.65625 24.015625 45.921875 \r\nQ 28.375 48.1875 33.59375 48.1875 \r\nQ 44.578125 48.1875 50.953125 41.515625 \r\nQ 57.328125 34.859375 57.328125 23.390625 \r\nQ 57.328125 12.15625 50.6875 5.359375 \r\nQ 44.046875 -1.421875 33.015625 -1.421875 \r\nQ 20.359375 -1.421875 13.671875 8.265625 \r\nQ 6.984375 17.96875 6.984375 36.375 \r\nQ 6.984375 53.65625 15.1875 63.9375 \r\nQ 23.390625 74.21875 37.203125 74.21875 \r\nQ 40.921875 74.21875 44.703125 73.484375 \r\nQ 48.484375 72.75 52.59375 71.296875 \r\nz\r\n\" id=\"DejaVuSans-54\"/>\r\n       </defs>\r\n       <use xlink:href=\"#DejaVuSans-48\"/>\r\n       <use x=\"63.623047\" xlink:href=\"#DejaVuSans-46\"/>\r\n       <use x=\"95.410156\" xlink:href=\"#DejaVuSans-54\"/>\r\n      </g>\r\n     </g>\r\n    </g>\r\n    <g id=\"xtick_5\">\r\n     <g id=\"line2d_5\">\r\n      <g>\r\n       <use style=\"stroke:#000000;stroke-width:0.8;\" x=\"288.812216\" xlink:href=\"#m19bca05682\" y=\"224.64\"/>\r\n      </g>\r\n     </g>\r\n     <g id=\"text_5\">\r\n      <!-- 0.8 -->\r\n      <g transform=\"translate(280.860653 239.238437)scale(0.1 -0.1)\">\r\n       <defs>\r\n        <path d=\"M 31.78125 34.625 \r\nQ 24.75 34.625 20.71875 30.859375 \r\nQ 16.703125 27.09375 16.703125 20.515625 \r\nQ 16.703125 13.921875 20.71875 10.15625 \r\nQ 24.75 6.390625 31.78125 6.390625 \r\nQ 38.8125 6.390625 42.859375 10.171875 \r\nQ 46.921875 13.96875 46.921875 20.515625 \r\nQ 46.921875 27.09375 42.890625 30.859375 \r\nQ 38.875 34.625 31.78125 34.625 \r\nz\r\nM 21.921875 38.8125 \r\nQ 15.578125 40.375 12.03125 44.71875 \r\nQ 8.5 49.078125 8.5 55.328125 \r\nQ 8.5 64.0625 14.71875 69.140625 \r\nQ 20.953125 74.21875 31.78125 74.21875 \r\nQ 42.671875 74.21875 48.875 69.140625 \r\nQ 55.078125 64.0625 55.078125 55.328125 \r\nQ 55.078125 49.078125 51.53125 44.71875 \r\nQ 48 40.375 41.703125 38.8125 \r\nQ 48.828125 37.15625 52.796875 32.3125 \r\nQ 56.78125 27.484375 56.78125 20.515625 \r\nQ 56.78125 9.90625 50.3125 4.234375 \r\nQ 43.84375 -1.421875 31.78125 -1.421875 \r\nQ 19.734375 -1.421875 13.25 4.234375 \r\nQ 6.78125 9.90625 6.78125 20.515625 \r\nQ 6.78125 27.484375 10.78125 32.3125 \r\nQ 14.796875 37.15625 21.921875 38.8125 \r\nz\r\nM 18.3125 54.390625 \r\nQ 18.3125 48.734375 21.84375 45.5625 \r\nQ 25.390625 42.390625 31.78125 42.390625 \r\nQ 38.140625 42.390625 41.71875 45.5625 \r\nQ 45.3125 48.734375 45.3125 54.390625 \r\nQ 45.3125 60.0625 41.71875 63.234375 \r\nQ 38.140625 66.40625 31.78125 66.40625 \r\nQ 25.390625 66.40625 21.84375 63.234375 \r\nQ 18.3125 60.0625 18.3125 54.390625 \r\nz\r\n\" id=\"DejaVuSans-56\"/>\r\n       </defs>\r\n       <use xlink:href=\"#DejaVuSans-48\"/>\r\n       <use x=\"63.623047\" xlink:href=\"#DejaVuSans-46\"/>\r\n       <use x=\"95.410156\" xlink:href=\"#DejaVuSans-56\"/>\r\n      </g>\r\n     </g>\r\n    </g>\r\n    <g id=\"xtick_6\">\r\n     <g id=\"line2d_6\">\r\n      <g>\r\n       <use style=\"stroke:#000000;stroke-width:0.8;\" x=\"349.684943\" xlink:href=\"#m19bca05682\" y=\"224.64\"/>\r\n      </g>\r\n     </g>\r\n     <g id=\"text_6\">\r\n      <!-- 1.0 -->\r\n      <g transform=\"translate(341.733381 239.238437)scale(0.1 -0.1)\">\r\n       <defs>\r\n        <path d=\"M 12.40625 8.296875 \r\nL 28.515625 8.296875 \r\nL 28.515625 63.921875 \r\nL 10.984375 60.40625 \r\nL 10.984375 69.390625 \r\nL 28.421875 72.90625 \r\nL 38.28125 72.90625 \r\nL 38.28125 8.296875 \r\nL 54.390625 8.296875 \r\nL 54.390625 0 \r\nL 12.40625 0 \r\nz\r\n\" id=\"DejaVuSans-49\"/>\r\n       </defs>\r\n       <use xlink:href=\"#DejaVuSans-49\"/>\r\n       <use x=\"63.623047\" xlink:href=\"#DejaVuSans-46\"/>\r\n       <use x=\"95.410156\" xlink:href=\"#DejaVuSans-48\"/>\r\n      </g>\r\n     </g>\r\n    </g>\r\n   </g>\r\n   <g id=\"matplotlib.axis_2\">\r\n    <g id=\"ytick_1\">\r\n     <g id=\"line2d_7\">\r\n      <defs>\r\n       <path d=\"M 0 0 \r\nL -3.5 0 \r\n\" id=\"m854acef743\" style=\"stroke:#000000;stroke-width:0.8;\"/>\r\n      </defs>\r\n      <g>\r\n       <use style=\"stroke:#000000;stroke-width:0.8;\" x=\"30.103125\" xlink:href=\"#m854acef743\" y=\"214.756364\"/>\r\n      </g>\r\n     </g>\r\n     <g id=\"text_7\">\r\n      <!-- 0.0 -->\r\n      <g transform=\"translate(7.2 218.555582)scale(0.1 -0.1)\">\r\n       <use xlink:href=\"#DejaVuSans-48\"/>\r\n       <use x=\"63.623047\" xlink:href=\"#DejaVuSans-46\"/>\r\n       <use x=\"95.410156\" xlink:href=\"#DejaVuSans-48\"/>\r\n      </g>\r\n     </g>\r\n    </g>\r\n    <g id=\"ytick_2\">\r\n     <g id=\"line2d_8\">\r\n      <g>\r\n       <use style=\"stroke:#000000;stroke-width:0.8;\" x=\"30.103125\" xlink:href=\"#m854acef743\" y=\"175.22136\"/>\r\n      </g>\r\n     </g>\r\n     <g id=\"text_8\">\r\n      <!-- 0.2 -->\r\n      <g transform=\"translate(7.2 179.020578)scale(0.1 -0.1)\">\r\n       <use xlink:href=\"#DejaVuSans-48\"/>\r\n       <use x=\"63.623047\" xlink:href=\"#DejaVuSans-46\"/>\r\n       <use x=\"95.410156\" xlink:href=\"#DejaVuSans-50\"/>\r\n      </g>\r\n     </g>\r\n    </g>\r\n    <g id=\"ytick_3\">\r\n     <g id=\"line2d_9\">\r\n      <g>\r\n       <use style=\"stroke:#000000;stroke-width:0.8;\" x=\"30.103125\" xlink:href=\"#m854acef743\" y=\"135.686356\"/>\r\n      </g>\r\n     </g>\r\n     <g id=\"text_9\">\r\n      <!-- 0.4 -->\r\n      <g transform=\"translate(7.2 139.485574)scale(0.1 -0.1)\">\r\n       <use xlink:href=\"#DejaVuSans-48\"/>\r\n       <use x=\"63.623047\" xlink:href=\"#DejaVuSans-46\"/>\r\n       <use x=\"95.410156\" xlink:href=\"#DejaVuSans-52\"/>\r\n      </g>\r\n     </g>\r\n    </g>\r\n    <g id=\"ytick_4\">\r\n     <g id=\"line2d_10\">\r\n      <g>\r\n       <use style=\"stroke:#000000;stroke-width:0.8;\" x=\"30.103125\" xlink:href=\"#m854acef743\" y=\"96.151352\"/>\r\n      </g>\r\n     </g>\r\n     <g id=\"text_10\">\r\n      <!-- 0.6 -->\r\n      <g transform=\"translate(7.2 99.95057)scale(0.1 -0.1)\">\r\n       <use xlink:href=\"#DejaVuSans-48\"/>\r\n       <use x=\"63.623047\" xlink:href=\"#DejaVuSans-46\"/>\r\n       <use x=\"95.410156\" xlink:href=\"#DejaVuSans-54\"/>\r\n      </g>\r\n     </g>\r\n    </g>\r\n    <g id=\"ytick_5\">\r\n     <g id=\"line2d_11\">\r\n      <g>\r\n       <use style=\"stroke:#000000;stroke-width:0.8;\" x=\"30.103125\" xlink:href=\"#m854acef743\" y=\"56.616348\"/>\r\n      </g>\r\n     </g>\r\n     <g id=\"text_11\">\r\n      <!-- 0.8 -->\r\n      <g transform=\"translate(7.2 60.415566)scale(0.1 -0.1)\">\r\n       <use xlink:href=\"#DejaVuSans-48\"/>\r\n       <use x=\"63.623047\" xlink:href=\"#DejaVuSans-46\"/>\r\n       <use x=\"95.410156\" xlink:href=\"#DejaVuSans-56\"/>\r\n      </g>\r\n     </g>\r\n    </g>\r\n    <g id=\"ytick_6\">\r\n     <g id=\"line2d_12\">\r\n      <g>\r\n       <use style=\"stroke:#000000;stroke-width:0.8;\" x=\"30.103125\" xlink:href=\"#m854acef743\" y=\"17.081343\"/>\r\n      </g>\r\n     </g>\r\n     <g id=\"text_12\">\r\n      <!-- 1.0 -->\r\n      <g transform=\"translate(7.2 20.880562)scale(0.1 -0.1)\">\r\n       <use xlink:href=\"#DejaVuSans-49\"/>\r\n       <use x=\"63.623047\" xlink:href=\"#DejaVuSans-46\"/>\r\n       <use x=\"95.410156\" xlink:href=\"#DejaVuSans-48\"/>\r\n      </g>\r\n     </g>\r\n    </g>\r\n   </g>\r\n   <g id=\"patch_3\">\r\n    <path d=\"M 30.103125 224.64 \r\nL 30.103125 7.2 \r\n\" style=\"fill:none;stroke:#000000;stroke-linecap:square;stroke-linejoin:miter;stroke-width:0.8;\"/>\r\n   </g>\r\n   <g id=\"patch_4\">\r\n    <path d=\"M 364.903125 224.64 \r\nL 364.903125 7.2 \r\n\" style=\"fill:none;stroke:#000000;stroke-linecap:square;stroke-linejoin:miter;stroke-width:0.8;\"/>\r\n   </g>\r\n   <g id=\"patch_5\">\r\n    <path d=\"M 30.103125 224.64 \r\nL 364.903125 224.64 \r\n\" style=\"fill:none;stroke:#000000;stroke-linecap:square;stroke-linejoin:miter;stroke-width:0.8;\"/>\r\n   </g>\r\n   <g id=\"patch_6\">\r\n    <path d=\"M 30.103125 7.2 \r\nL 364.903125 7.2 \r\n\" style=\"fill:none;stroke:#000000;stroke-linecap:square;stroke-linejoin:miter;stroke-width:0.8;\"/>\r\n   </g>\r\n  </g>\r\n </g>\r\n <defs>\r\n  <clipPath id=\"p56b820bc10\">\r\n   <rect height=\"217.44\" width=\"334.8\" x=\"30.103125\" y=\"7.2\"/>\r\n  </clipPath>\r\n </defs>\r\n</svg>\r\n",
      "image/png": "[encoded data removed]"
     },
     "metadata": {
      "needs_background": "light"
     }
    }
   ],
   "source": [
    "color1 = '#FF0000'\n",
    "color2 = '#0000FF'\n",
    "plt.scatter(y_predict[y_test>0.5],y_pred_proba[:,1][y_test>0.5],c=color1, alpha=0.4, label='正样本')\n",
    "plt.scatter(y_predict[y_test<0.5],y_pred_proba[:,1][y_test<0.5],c=color2, alpha=0.4, label='负样本')\n",
    "plt.show()"
   ]
  },
  {
   "cell_type": "code",
   "execution_count": null,
   "metadata": {},
   "outputs": [],
   "source": []
  }
 ]
}